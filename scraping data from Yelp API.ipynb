{
 "cells": [
  {
   "cell_type": "markdown",
   "metadata": {},
   "source": [
    "# Imports"
   ]
  },
  {
   "cell_type": "code",
   "execution_count": 3,
   "metadata": {},
   "outputs": [],
   "source": [
    "import pandas as pd\n",
    "import numpy as np\n",
    "import requests\n",
    "import json\n",
    "from bs4 import BeautifulSoup as soup\n",
    "import pickle\n"
   ]
  },
  {
   "cell_type": "code",
   "execution_count": 23,
   "metadata": {},
   "outputs": [],
   "source": [
    "## get business IDs for the category-restaurant##\n",
    "id_list =[]\n",
    "def get_business_id(country):\n",
    "    \n",
    "    \"\"\"Yelp allows 1000 business IDs per location with 50 IDs per request\n",
    "      country: string -> name of a country from locales available on Yelp API\n",
    "    \"\"\"\n",
    "    for c in country:\n",
    "        i = 1; j= 1\n",
    "        while j<21:\n",
    "            url = \"https://api.yelp.com/v3/businesses/search\"\n",
    "            API_KEY = 'API'\n",
    "            headers = {'Authorization': 'bearer %s' % API_KEY}\n",
    "            PARAMETERS = {'locale':country[c], 'categories':'Restaurants(restaurants,All)', 'location': c, 'limit':50, 'offset' : i}\n",
    "            response = requests.get(url, headers= headers, params = PARAMETERS)\n",
    "            retrieve = response.json()\n",
    "            i+=50; j+=1\n",
    "            vals = list(retrieve.values())\n",
    "            for v in vals[0]:\n",
    "                ### some entries in the retrieved business details are in string format instead of dictionary.### \n",
    "                ###  We only keep those entries that are dictionaries ###\n",
    "                if isinstance(v,dict):\n",
    "                    id_list.append(v['id'])\n",
    "                else:\n",
    "                    break\n",
    "    return id_list"
   ]
  },
  {
   "cell_type": "code",
   "execution_count": 24,
   "metadata": {},
   "outputs": [],
   "source": [
    "## list of locales available on Yelp API ##\n",
    "## 'Country name':'Country code' ##\n",
    "countries = {'Czech Republic':'cs_CZ','Denmark':'da_DK','Austria':'de_AT','Switzerland':'de_CH','Germany':'de_DE',\n",
    "            'Australia':'en_AU', 'Belgium':'en_BE','Canada':'en_CA','Switzerland':'en_CH','United Kingdom':'en_GB',\n",
    "             'Hong Kong':'en_HK','Republic of Ireland':'en_IE','Malaysia':'en_MY','New Zealand':'en_NZ',\n",
    "             'Philippines':'en_PH','Singapore':'en_SG','United States':'en_US','Argentina':'es_AR','Chile':'es_CL',\n",
    "             'Spain':'es_ES','Mexico':'es_MX','Finland':'fi_FI','Philippines':'fil_PH','Belgium':'fr_BE',\n",
    "             'Canada':'fr_CA', 'Switzerland':'fr_CH','France':'fr_FR', 'Switzerland':'it_CH',\n",
    "             'Italy':'it_IT','Japan':'ja_JP','Malaysia':'ms_MY','Norway':'nb_NO',\n",
    "             'Belgium':'nl_BE', 'The Netherlands':'nl_NL', 'Poland':'pl_PL','Brazil':'pt_BR','Portugal':'pt_PT',\n",
    "              'Finland':'sv_FI', 'Sweden':'sv_SE', 'Turkey':'tr_TR', 'Hong Kong':'zh_HK', 'Taiwan':'zh_TW'}\n",
    "\n"
   ]
  },
  {
   "cell_type": "code",
   "execution_count": 25,
   "metadata": {},
   "outputs": [],
   "source": [
    "### Get business IDs for restaurants for all available locations on Yelp ###\n",
    "ID  = get_business_id(countries)"
   ]
  },
  {
   "cell_type": "code",
   "execution_count": 27,
   "metadata": {},
   "outputs": [
    {
     "data": {
      "text/plain": [
       "30400"
      ]
     },
     "execution_count": 27,
     "metadata": {},
     "output_type": "execute_result"
    }
   ],
   "source": [
    "## Around 30k+ business IDs scraped from Yelp API ##\n",
    "len(ID)"
   ]
  },
  {
   "cell_type": "code",
   "execution_count": 30,
   "metadata": {},
   "outputs": [],
   "source": [
    "df = pd.DataFrame(ID, columns =['businessID'])"
   ]
  },
  {
   "cell_type": "code",
   "execution_count": 35,
   "metadata": {},
   "outputs": [],
   "source": [
    "df.to_pickle('business_ID.pkl')"
   ]
  },
  {
   "cell_type": "markdown",
   "metadata": {},
   "source": [
    "# Load data"
   ]
  },
  {
   "cell_type": "code",
   "execution_count": 2,
   "metadata": {},
   "outputs": [],
   "source": [
    "df = pd.read_pickle('business_ID')"
   ]
  },
  {
   "cell_type": "code",
   "execution_count": 3,
   "metadata": {},
   "outputs": [
    {
     "data": {
      "text/plain": [
       "5UKX9xWwIMRLRdtzkRyZuA    2\n",
       "TofRTCAfrXcvf7BYx0tqkQ    2\n",
       "-Y_9AT6NpvHz15vd4B0CbA    2\n",
       "iFZuhhzJCfq5qQBOV5LWKw    2\n",
       "SqAMMAhQosxIcocdn-eJSQ    1\n",
       "                         ..\n",
       "_8vPU0nyEQ_cOtQyhc2P7w    1\n",
       "qO9JM9rzZ99HwistT-y1yA    1\n",
       "Wm1B9fpVOJdwrwDBYZNt3A    1\n",
       "2ooCfDE50zgIkHNRCAalzw    1\n",
       "y_0AvTblYwjyS1Qcv0Lpqg    1\n",
       "Name: businessID, Length: 30396, dtype: int64"
      ]
     },
     "execution_count": 3,
     "metadata": {},
     "output_type": "execute_result"
    }
   ],
   "source": [
    "df['businessID'].value_counts(ascending = False)"
   ]
  },
  {
   "cell_type": "code",
   "execution_count": 3,
   "metadata": {},
   "outputs": [],
   "source": [
    "ID = df['businessID'].tolist()"
   ]
  },
  {
   "cell_type": "markdown",
   "metadata": {},
   "source": [
    "# Get reviews"
   ]
  },
  {
   "cell_type": "code",
   "execution_count": 8,
   "metadata": {},
   "outputs": [],
   "source": [
    "## Get user reviews for the restaurant IDs scraped above ##\n",
    "def get_reviews(bizID):\n",
    "    \"\"\"Get user reviews for different business IDs\n",
    "      returns a dataframe with biz_id, review id, review text, review rate and user id\n",
    "  \"\"\"\n",
    "    data_final = pd.DataFrame()\n",
    "    for i in bizID:\n",
    "        data ={}\n",
    "        url_rev = \"https://api.yelp.com/v3/businesses/{}/reviews\".format(i)\n",
    "        API_KEY = 'API'\n",
    "        headers = {'Authorization': 'bearer %s' % API_KEY}\n",
    "        res = requests.get(url_rev, headers = headers)\n",
    "        retrieve_rev = res.json()\n",
    "        my_list = retrieve_rev['reviews']\n",
    "        for j in my_list:\n",
    "            data['biz_id']= i\n",
    "            data['review_ID'] = j['id']\n",
    "            data['review_text'] = j['text']\n",
    "            data['review_rate'] = j['rating']\n",
    "            data['review_time'] = j['time_created']\n",
    "            data['userid'] = j['user']['id']\n",
    "            dataset = pd.DataFrame([data])\n",
    "            data_final = pd.concat([dataset, data_final],axis = 0)\n",
    "    return data_final"
   ]
  },
  {
   "cell_type": "markdown",
   "metadata": {},
   "source": [
    "Yelp returns 3 reviews per business ID. But we can only make 5000 API calls per day. Considering we have 30396 business IDs X 3 reviews , it far exceeds 5000 API calls. So the user reviews were retrieved in blocks. \n",
    "For instance in the code below we retrieve data for ID in rows 425 to 594"
   ]
  },
  {
   "cell_type": "code",
   "execution_count": null,
   "metadata": {},
   "outputs": [],
   "source": [
    "data_final = pd.DataFrame()\n",
    "for i in ID[425:594]:\n",
    "        data ={}\n",
    "        url_rev = \"https://api.yelp.com/v3/businesses/{}/reviews\".format(i)\n",
    "        API_KEY = 'API'\n",
    "        headers = {'Authorization': 'bearer %s' % API_KEY}\n",
    "        res_new = requests.get(url_rev, headers = headers)\n",
    "        retrieve_rev_new = res_new.json()\n",
    "        my_list = retrieve_rev_new['reviews']\n",
    "        for j in my_list:\n",
    "            data['biz_id']= i\n",
    "            data['review_ID'] = j['id']\n",
    "            data['review_text'] = j['text']\n",
    "            data['review_rate'] = j['rating']\n",
    "            data['review_time'] = j['time_created']\n",
    "            data['userid'] = j['user']['id']\n",
    "            dataset = pd.DataFrame([data])\n",
    "            data_final = pd.concat([dataset, data_final],axis = 0)\n",
    "            \n",
    "           # data_final = pd.concat([dataset, data_final],axis = 0)"
   ]
  },
  {
   "cell_type": "code",
   "execution_count": 64,
   "metadata": {},
   "outputs": [
    {
     "data": {
      "text/plain": [
       "'https://api.yelp.com/v3/businesses/iXawIr-ldV5Y-tSo4mQadA/reviews'"
      ]
     },
     "execution_count": 64,
     "metadata": {},
     "output_type": "execute_result"
    }
   ],
   "source": [
    "url_rev"
   ]
  },
  {
   "cell_type": "code",
   "execution_count": 58,
   "metadata": {},
   "outputs": [
    {
     "data": {
      "text/plain": [
       "'ytn7WJi3y-KzSPYZFwRybA'"
      ]
     },
     "execution_count": 58,
     "metadata": {},
     "output_type": "execute_result"
    }
   ],
   "source": [
    "i"
   ]
  },
  {
   "cell_type": "code",
   "execution_count": 59,
   "metadata": {},
   "outputs": [
    {
     "data": {
      "text/html": [
       "<div>\n",
       "<style scoped>\n",
       "    .dataframe tbody tr th:only-of-type {\n",
       "        vertical-align: middle;\n",
       "    }\n",
       "\n",
       "    .dataframe tbody tr th {\n",
       "        vertical-align: top;\n",
       "    }\n",
       "\n",
       "    .dataframe thead th {\n",
       "        text-align: right;\n",
       "    }\n",
       "</style>\n",
       "<table border=\"1\" class=\"dataframe\">\n",
       "  <thead>\n",
       "    <tr style=\"text-align: right;\">\n",
       "      <th></th>\n",
       "      <th>biz_id</th>\n",
       "      <th>review_ID</th>\n",
       "      <th>review_text</th>\n",
       "      <th>review_rate</th>\n",
       "      <th>review_time</th>\n",
       "      <th>userid</th>\n",
       "    </tr>\n",
       "  </thead>\n",
       "  <tbody>\n",
       "    <tr>\n",
       "      <th>0</th>\n",
       "      <td>2Uc7gpy3pyNBa1r-PFE_Yg</td>\n",
       "      <td>WK3tqWzoWuapvJWqjrYAzA</td>\n",
       "      <td>By far the best food in Prague! Very good pric...</td>\n",
       "      <td>5</td>\n",
       "      <td>2016-10-21 06:18:58</td>\n",
       "      <td>vT3LoECamH6elCxLDZ7DvQ</td>\n",
       "    </tr>\n",
       "    <tr>\n",
       "      <th>0</th>\n",
       "      <td>2Uc7gpy3pyNBa1r-PFE_Yg</td>\n",
       "      <td>DdSy510-P7WhZ5oHZkrHEA</td>\n",
       "      <td>Wonderful quaint Greek restaurant nestled in a...</td>\n",
       "      <td>4</td>\n",
       "      <td>2017-05-13 11:46:52</td>\n",
       "      <td>F2cMAsmFfxT1iy92fVCmFw</td>\n",
       "    </tr>\n",
       "    <tr>\n",
       "      <th>0</th>\n",
       "      <td>2Uc7gpy3pyNBa1r-PFE_Yg</td>\n",
       "      <td>xzdI-INb3RZbyIM_peUJYg</td>\n",
       "      <td>A place with great atmosphere and the best Gre...</td>\n",
       "      <td>5</td>\n",
       "      <td>2020-02-16 01:11:48</td>\n",
       "      <td>NfZNMppuV4hxLIcGP8voOg</td>\n",
       "    </tr>\n",
       "    <tr>\n",
       "      <th>0</th>\n",
       "      <td>yzXTHivtYStUD5v_QPO6IA</td>\n",
       "      <td>wcuRIGlsBC98__Mg44XmGQ</td>\n",
       "      <td>I had the chicken steak and it was a very very...</td>\n",
       "      <td>5</td>\n",
       "      <td>2018-08-08 11:45:27</td>\n",
       "      <td>IzOxW_z1DAAmF70uTwNLjg</td>\n",
       "    </tr>\n",
       "    <tr>\n",
       "      <th>0</th>\n",
       "      <td>yzXTHivtYStUD5v_QPO6IA</td>\n",
       "      <td>3qp43SpGwFMRuyw2cSErPg</td>\n",
       "      <td>Great restaurant.  I couldn't make up my mind ...</td>\n",
       "      <td>5</td>\n",
       "      <td>2019-10-22 14:18:00</td>\n",
       "      <td>cI2_2ioC0M3_XkA1_NhLEw</td>\n",
       "    </tr>\n",
       "    <tr>\n",
       "      <th>...</th>\n",
       "      <td>...</td>\n",
       "      <td>...</td>\n",
       "      <td>...</td>\n",
       "      <td>...</td>\n",
       "      <td>...</td>\n",
       "      <td>...</td>\n",
       "    </tr>\n",
       "    <tr>\n",
       "      <th>0</th>\n",
       "      <td>o-M1z05z7MBTk_m2GCS6bA</td>\n",
       "      <td>l-qCoF5sHhov0iWtXOFKRA</td>\n",
       "      <td>This was such a great place to get some drinks...</td>\n",
       "      <td>5</td>\n",
       "      <td>2019-06-07 12:52:27</td>\n",
       "      <td>vkteh7lM65ZBn-ZG-KfhKw</td>\n",
       "    </tr>\n",
       "    <tr>\n",
       "      <th>0</th>\n",
       "      <td>o-M1z05z7MBTk_m2GCS6bA</td>\n",
       "      <td>Haz0_SI_aNC-gxeSAL29hQ</td>\n",
       "      <td>This is a rare gem !  Lovely, well located, de...</td>\n",
       "      <td>5</td>\n",
       "      <td>2019-06-10 10:03:02</td>\n",
       "      <td>-NShH45YjbP72USLZgjn8g</td>\n",
       "    </tr>\n",
       "    <tr>\n",
       "      <th>0</th>\n",
       "      <td>vFl3TGZixk4jf2_qxr3Gmg</td>\n",
       "      <td>ZTEG3rkMxPjkfk5QIsQq3Q</td>\n",
       "      <td>A cool place near the river to drink beer. Can...</td>\n",
       "      <td>3</td>\n",
       "      <td>2016-09-13 04:42:46</td>\n",
       "      <td>ZH2oefuJlPKhynQRpxBb7g</td>\n",
       "    </tr>\n",
       "    <tr>\n",
       "      <th>0</th>\n",
       "      <td>vFl3TGZixk4jf2_qxr3Gmg</td>\n",
       "      <td>4e-k89JyH_EWaouD3FOGWg</td>\n",
       "      <td>Thanks for making Prague an even awesome-er (m...</td>\n",
       "      <td>5</td>\n",
       "      <td>2015-09-03 00:25:07</td>\n",
       "      <td>gtKm-eFYW8b6FBBGi3OPtQ</td>\n",
       "    </tr>\n",
       "    <tr>\n",
       "      <th>0</th>\n",
       "      <td>vFl3TGZixk4jf2_qxr3Gmg</td>\n",
       "      <td>edKBXO4BAJkrU-V3TPnUVw</td>\n",
       "      <td>Beer is not to be missed in Prague. Beer once,...</td>\n",
       "      <td>5</td>\n",
       "      <td>2016-06-09 11:40:45</td>\n",
       "      <td>z6gseuVl0cR7tRLQa_DXuQ</td>\n",
       "    </tr>\n",
       "  </tbody>\n",
       "</table>\n",
       "<p>452 rows × 6 columns</p>\n",
       "</div>"
      ],
      "text/plain": [
       "                    biz_id               review_ID  \\\n",
       "0   2Uc7gpy3pyNBa1r-PFE_Yg  WK3tqWzoWuapvJWqjrYAzA   \n",
       "0   2Uc7gpy3pyNBa1r-PFE_Yg  DdSy510-P7WhZ5oHZkrHEA   \n",
       "0   2Uc7gpy3pyNBa1r-PFE_Yg  xzdI-INb3RZbyIM_peUJYg   \n",
       "0   yzXTHivtYStUD5v_QPO6IA  wcuRIGlsBC98__Mg44XmGQ   \n",
       "0   yzXTHivtYStUD5v_QPO6IA  3qp43SpGwFMRuyw2cSErPg   \n",
       "..                     ...                     ...   \n",
       "0   o-M1z05z7MBTk_m2GCS6bA  l-qCoF5sHhov0iWtXOFKRA   \n",
       "0   o-M1z05z7MBTk_m2GCS6bA  Haz0_SI_aNC-gxeSAL29hQ   \n",
       "0   vFl3TGZixk4jf2_qxr3Gmg  ZTEG3rkMxPjkfk5QIsQq3Q   \n",
       "0   vFl3TGZixk4jf2_qxr3Gmg  4e-k89JyH_EWaouD3FOGWg   \n",
       "0   vFl3TGZixk4jf2_qxr3Gmg  edKBXO4BAJkrU-V3TPnUVw   \n",
       "\n",
       "                                          review_text  review_rate  \\\n",
       "0   By far the best food in Prague! Very good pric...            5   \n",
       "0   Wonderful quaint Greek restaurant nestled in a...            4   \n",
       "0   A place with great atmosphere and the best Gre...            5   \n",
       "0   I had the chicken steak and it was a very very...            5   \n",
       "0   Great restaurant.  I couldn't make up my mind ...            5   \n",
       "..                                                ...          ...   \n",
       "0   This was such a great place to get some drinks...            5   \n",
       "0   This is a rare gem !  Lovely, well located, de...            5   \n",
       "0   A cool place near the river to drink beer. Can...            3   \n",
       "0   Thanks for making Prague an even awesome-er (m...            5   \n",
       "0   Beer is not to be missed in Prague. Beer once,...            5   \n",
       "\n",
       "            review_time                  userid  \n",
       "0   2016-10-21 06:18:58  vT3LoECamH6elCxLDZ7DvQ  \n",
       "0   2017-05-13 11:46:52  F2cMAsmFfxT1iy92fVCmFw  \n",
       "0   2020-02-16 01:11:48  NfZNMppuV4hxLIcGP8voOg  \n",
       "0   2018-08-08 11:45:27  IzOxW_z1DAAmF70uTwNLjg  \n",
       "0   2019-10-22 14:18:00  cI2_2ioC0M3_XkA1_NhLEw  \n",
       "..                  ...                     ...  \n",
       "0   2019-06-07 12:52:27  vkteh7lM65ZBn-ZG-KfhKw  \n",
       "0   2019-06-10 10:03:02  -NShH45YjbP72USLZgjn8g  \n",
       "0   2016-09-13 04:42:46  ZH2oefuJlPKhynQRpxBb7g  \n",
       "0   2015-09-03 00:25:07  gtKm-eFYW8b6FBBGi3OPtQ  \n",
       "0   2016-06-09 11:40:45  z6gseuVl0cR7tRLQa_DXuQ  \n",
       "\n",
       "[452 rows x 6 columns]"
      ]
     },
     "execution_count": 59,
     "metadata": {},
     "output_type": "execute_result"
    }
   ],
   "source": [
    "data_final"
   ]
  },
  {
   "cell_type": "markdown",
   "metadata": {},
   "source": [
    "However, only 3 reviews per restaurant is very small data to build a recommender system utilizing Latent Factor Collaborative Filtering"
   ]
  },
  {
   "cell_type": "code",
   "execution_count": null,
   "metadata": {},
   "outputs": [],
   "source": []
  }
 ],
 "metadata": {
  "kernelspec": {
   "display_name": "Python 3",
   "language": "python",
   "name": "python3"
  },
  "language_info": {
   "codemirror_mode": {
    "name": "ipython",
    "version": 3
   },
   "file_extension": ".py",
   "mimetype": "text/x-python",
   "name": "python",
   "nbconvert_exporter": "python",
   "pygments_lexer": "ipython3",
   "version": "3.7.6"
  }
 },
 "nbformat": 4,
 "nbformat_minor": 4
}
